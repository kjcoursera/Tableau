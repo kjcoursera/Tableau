{
  "nbformat": 4,
  "nbformat_minor": 0,
  "metadata": {
    "colab": {
      "name": "MultiClas_Classification_Using_SoftMax_MINSTdata.ipynb",
      "provenance": [],
      "authorship_tag": "ABX9TyOweRGj5cyp9pJQWKrNZxoO",
      "include_colab_link": true
    },
    "kernelspec": {
      "name": "python3",
      "display_name": "Python 3"
    }
  },
  "cells": [
    {
      "cell_type": "markdown",
      "metadata": {
        "id": "view-in-github",
        "colab_type": "text"
      },
      "source": [
        "<a href=\"https://colab.research.google.com/github/kjcoursera/Tableau/blob/master/MultiClas_Classification_Using_SoftMax_MINSTdata.ipynb\" target=\"_parent\"><img src=\"https://colab.research.google.com/assets/colab-badge.svg\" alt=\"Open In Colab\"/></a>"
      ]
    },
    {
      "cell_type": "code",
      "metadata": {
        "id": "kyGPjBiPIBMD",
        "outputId": "42345ba0-9951-436d-9d5c-1f01caa8fce6",
        "colab": {
          "base_uri": "https://localhost:8080/",
          "height": 34
        }
      },
      "source": [
        "# TensorFlow and tf.keras\n",
        "import tensorflow as tf\n",
        "\n",
        "# Helper libraries\n",
        "import numpy as np\n",
        "import pandas as pd\n",
        "import matplotlib.pyplot as plt\n",
        "\n",
        "print(tf.__version__)"
      ],
      "execution_count": null,
      "outputs": [
        {
          "output_type": "stream",
          "text": [
            "2.3.0\n"
          ],
          "name": "stdout"
        }
      ]
    },
    {
      "cell_type": "markdown",
      "metadata": {
        "id": "VVIXV_WdI8Xh"
      },
      "source": [
        "**Load the Dataset**"
      ]
    },
    {
      "cell_type": "code",
      "metadata": {
        "id": "ivrifISPI0fk",
        "outputId": "53f4239e-34bc-4b07-a119-50a1f9be1802",
        "colab": {
          "base_uri": "https://localhost:8080/",
          "height": 52
        }
      },
      "source": [
        "(x_train, y_train),(x_test, y_test) = tf.keras.datasets.mnist.load_data()"
      ],
      "execution_count": null,
      "outputs": [
        {
          "output_type": "stream",
          "text": [
            "Downloading data from https://storage.googleapis.com/tensorflow/tf-keras-datasets/mnist.npz\n",
            "11493376/11490434 [==============================] - 0s 0us/step\n"
          ],
          "name": "stdout"
        }
      ]
    },
    {
      "cell_type": "code",
      "metadata": {
        "id": "V11oE-9DJAOV",
        "outputId": "536fecc1-3978-4905-c785-9c8f0bcfae66",
        "colab": {
          "base_uri": "https://localhost:8080/",
          "height": 1000
        }
      },
      "source": [
        "x_train[1917]\n"
      ],
      "execution_count": 9,
      "outputs": [
        {
          "output_type": "execute_result",
          "data": {
            "text/plain": [
              "array([[  0,   0,   0,   0,   0,   0,   0,   0,   0,   0,   0,   0,   0,\n",
              "          0,   0,   0,   0,   0,   0,   0,   0,   0,   0,   0,   0,   0,\n",
              "          0,   0],\n",
              "       [  0,   0,   0,   0,   0,   0,   0,   0,   0,   0,   0,   0,   0,\n",
              "          0,   0,   0,   0,   0,   0,   0,   0,   0,   0,   0,   0,   0,\n",
              "          0,   0],\n",
              "       [  0,   0,   0,   0,   0,   0,   0,   0,   0,   0,   0,   0,   0,\n",
              "          0,   0,   0,   0,   0,   0,   0,   0,   0,   0,   0,   0,   0,\n",
              "          0,   0],\n",
              "       [  0,   0,   0,   0,   0,   0,   0,   0,   0,   0,   0,   0,   0,\n",
              "          0,   0,   0,   0,  26, 207, 253, 255,  27,   0,   0,   0,   0,\n",
              "          0,   0],\n",
              "       [  0,   0,   0,   0,   0,   0,   0,   0,   0,   0,   0,   0,   0,\n",
              "          0,   0,   0,  29, 200, 252, 252, 253,  27,   0,   0,   0,   0,\n",
              "          0,   0],\n",
              "       [  0,   0,   0,   0,   0,   0,   0,   0,   0,   0,   0,   0,   0,\n",
              "          0,   0,  26, 200, 252, 252, 220, 133,   6,   0,   0,   0,   0,\n",
              "          0,   0],\n",
              "       [  0,   0,   0,   0,   0,   0,   0,   0,   0,   0,   0,   0,   0,\n",
              "          4, 107, 207, 252, 252, 249,  99,   0,   0,   0,   0,   0,   0,\n",
              "          0,   0],\n",
              "       [  0,   0,   0,   0,   0,   0,   0,   0,   0,   0,   0,   0,   0,\n",
              "        107, 252, 253, 252, 220,  99,   0,   0,   0,   0,   0,   0,   0,\n",
              "          0,   0],\n",
              "       [  0,   0,   0,   0,   0,   0,   0,   0,   0,   0,   0,   0, 120,\n",
              "        253, 253, 255, 253, 133,   0,   0,   0,   0,   0,   0,   0,   0,\n",
              "          0,   0],\n",
              "       [  0,   0,   0,   0,   0,   0,   0,   0,   0,   0,   0,  29, 215,\n",
              "        252, 252, 253,  51,   6,   0,   0,   0,   0,   0,   0,   0,   0,\n",
              "          0,   0],\n",
              "       [  0,   0,   0,   0,   0,   0,   0,   0,   0,   0,  26, 200, 252,\n",
              "        252, 220, 133,   6,   0,   0,   0,   0,   0,   0,   0,   0,   0,\n",
              "          0,   0],\n",
              "       [  0,   0,   0,   0,   0,   0,   0,   0,   0,   0, 128, 252, 252,\n",
              "        252, 112,   0,   0,   0,   0,   0,   0,   0,   0,   0,   0,   0,\n",
              "          0,   0],\n",
              "       [  0,   0,   0,   0,   0,   0,   0,   0,   0,  79, 253, 252, 252,\n",
              "        236,  50,   0,   0,   0,   0,   0,   0,   0,   0,   0,   0,   0,\n",
              "          0,   0],\n",
              "       [  0,   0,   0,   0,   0,   0,   0,   0,   0, 141, 255, 253, 228,\n",
              "         47,   0,   0,   0,   0,   0,   0,   0,   0,   0,   0,   0,   0,\n",
              "          0,   0],\n",
              "       [  0,   0,   0,   0,   0,   0,   0,   0,   0, 140, 253, 252, 195,\n",
              "          0,   0,   0,   0,   0,   0,   0,   0,   0,   0,   0,   0,   0,\n",
              "          0,   0],\n",
              "       [  0,   0,   0,   0,   0,   0,   0,   0,  23, 227, 253, 252,  86,\n",
              "         38, 135,  57,   6,   0,   0,   0,   0,   0,   0,   0,   0,   0,\n",
              "          0,   0],\n",
              "       [  0,   0,   0,   0,   0,   0,   0,   0,  29, 252, 253, 252, 109,\n",
              "        224, 252, 253, 177, 137,  10,   0,   0,   0,   0,   0,   0,   0,\n",
              "          0,   0],\n",
              "       [  0,   0,   0,   0,   0,   0,   0,   0,  29, 252, 253, 252, 252,\n",
              "        252, 252, 253, 252, 252, 161,   0,   0,   0,   0,   0,   0,   0,\n",
              "          0,   0],\n",
              "       [  0,   0,   0,   0,   0,   0,   0,   0,  16, 203, 255, 253, 253,\n",
              "        253, 253, 255, 253, 253, 253, 112,   0,   0,   0,   0,   0,   0,\n",
              "          0,   0],\n",
              "       [  0,   0,   0,   0,   0,   0,   0,   0,   0, 140, 253, 252, 252,\n",
              "        252, 127,  27, 228, 252, 252, 112,   0,   0,   0,   0,   0,   0,\n",
              "          0,   0],\n",
              "       [  0,   0,   0,   0,   0,   0,   0,   0,   0, 140, 253, 252, 252,\n",
              "        252, 221, 120, 246, 252, 252, 112,   0,   0,   0,   0,   0,   0,\n",
              "          0,   0],\n",
              "       [  0,   0,   0,   0,   0,   0,   0,   0,   0,  47, 253, 252, 252,\n",
              "        252, 252, 253, 252, 245, 208,  37,   0,   0,   0,   0,   0,   0,\n",
              "          0,   0],\n",
              "       [  0,   0,   0,   0,   0,   0,   0,   0,   0,   0, 174, 252, 252,\n",
              "        252, 252, 253, 252, 118,   0,   0,   0,   0,   0,   0,   0,   0,\n",
              "          0,   0],\n",
              "       [  0,   0,   0,   0,   0,   0,   0,   0,   0,   0,   0,   0,   0,\n",
              "          0,   0,   0,   0,   0,   0,   0,   0,   0,   0,   0,   0,   0,\n",
              "          0,   0],\n",
              "       [  0,   0,   0,   0,   0,   0,   0,   0,   0,   0,   0,   0,   0,\n",
              "          0,   0,   0,   0,   0,   0,   0,   0,   0,   0,   0,   0,   0,\n",
              "          0,   0],\n",
              "       [  0,   0,   0,   0,   0,   0,   0,   0,   0,   0,   0,   0,   0,\n",
              "          0,   0,   0,   0,   0,   0,   0,   0,   0,   0,   0,   0,   0,\n",
              "          0,   0],\n",
              "       [  0,   0,   0,   0,   0,   0,   0,   0,   0,   0,   0,   0,   0,\n",
              "          0,   0,   0,   0,   0,   0,   0,   0,   0,   0,   0,   0,   0,\n",
              "          0,   0],\n",
              "       [  0,   0,   0,   0,   0,   0,   0,   0,   0,   0,   0,   0,   0,\n",
              "          0,   0,   0,   0,   0,   0,   0,   0,   0,   0,   0,   0,   0,\n",
              "          0,   0]], dtype=uint8)"
            ]
          },
          "metadata": {
            "tags": []
          },
          "execution_count": 9
        }
      ]
    },
    {
      "cell_type": "code",
      "metadata": {
        "id": "pAb5vLUyJuFS",
        "outputId": "1e9fc9f6-7bb2-4010-d55d-c0a63be2932a",
        "colab": {
          "base_uri": "https://localhost:8080/",
          "height": 282
        }
      },
      "source": [
        "plt.imshow(x_train[1917])"
      ],
      "execution_count": 12,
      "outputs": [
        {
          "output_type": "execute_result",
          "data": {
            "text/plain": [
              "<matplotlib.image.AxesImage at 0x7fa844d01588>"
            ]
          },
          "metadata": {
            "tags": []
          },
          "execution_count": 12
        },
        {
          "output_type": "display_data",
          "data": {
            "image/png": "[encoded data removed]",
            "text/plain": [
              "<Figure size 432x288 with 1 Axes>"
            ]
          },
          "metadata": {
            "tags": [],
            "needs_background": "light"
          }
        }
      ]
    },
    {
      "cell_type": "code",
      "metadata": {
        "id": "c_pKRAT8J8xe",
        "outputId": "89fdd26d-c610-441e-a5d2-2b01dba30104",
        "colab": {
          "base_uri": "https://localhost:8080/",
          "height": 69
        }
      },
      "source": [
        "# Output row #10 of example #2917.\n",
        "x_train[2917][10]"
      ],
      "execution_count": 13,
      "outputs": [
        {
          "output_type": "execute_result",
          "data": {
            "text/plain": [
              "array([  0,   0,   0,   0,   0,   0,   0,   0,   0,   0,   0,   0,   0,\n",
              "         0,   0,   0,  58, 254, 216,  11,   0,   0,   0,   0,   0,   0,\n",
              "         0,   0], dtype=uint8)"
            ]
          },
          "metadata": {
            "tags": []
          },
          "execution_count": 13
        }
      ]
    },
    {
      "cell_type": "code",
      "metadata": {
        "id": "t2yQlM3VKCM8",
        "outputId": "f1434ff2-7f6b-4f43-e4b2-c1a944162843",
        "colab": {
          "base_uri": "https://localhost:8080/",
          "height": 34
        }
      },
      "source": [
        "# Output pixel #16 of row #10 of example #2900.\n",
        "x_train[2917][10][16]"
      ],
      "execution_count": 14,
      "outputs": [
        {
          "output_type": "execute_result",
          "data": {
            "text/plain": [
              "58"
            ]
          },
          "metadata": {
            "tags": []
          },
          "execution_count": 14
        }
      ]
    },
    {
      "cell_type": "markdown",
      "metadata": {
        "id": "dMhC3jEOnkhO"
      },
      "source": [
        "**Normalize the feature values**"
      ]
    },
    {
      "cell_type": "code",
      "metadata": {
        "id": "JIBAyJ4KKGmi",
        "outputId": "657fee7b-01da-4f6d-aa4b-eb89a39e3d3a",
        "colab": {
          "base_uri": "https://localhost:8080/",
          "height": 104
        }
      },
      "source": [
        "x_train_normalized = x_train/255.0\n",
        "x_test_normalized = x_test/255.0\n",
        "print(x_train_normalized[2900][12]) # Output a normalized row"
      ],
      "execution_count": 15,
      "outputs": [
        {
          "output_type": "stream",
          "text": [
            "[0.         0.         0.         0.         0.         0.\n",
            " 0.         0.55294118 0.88627451 0.22352941 0.         0.\n",
            " 0.         0.         0.         0.         0.         0.\n",
            " 0.         0.         0.         0.         0.         0.\n",
            " 0.         0.         0.         0.        ]\n"
          ],
          "name": "stdout"
        }
      ]
    },
    {
      "cell_type": "code",
      "metadata": {
        "id": "uu875_eanrIr",
        "outputId": "e0be05bf-91cd-4900-b128-11db71a7cd41",
        "colab": {
          "base_uri": "https://localhost:8080/",
          "height": 34
        }
      },
      "source": [
        "\n",
        "def plot_curve(epochs, hist, list_of_metrics):\n",
        "  \"\"\"Plot a curve of one or more classification metrics vs. epoch.\"\"\"  \n",
        "  # list_of_metrics should be one of the names shown in:\n",
        "  # https://www.tensorflow.org/tutorials/structured_data/imbalanced_data#define_the_model_and_metrics  \n",
        "\n",
        "  plt.figure()\n",
        "  plt.xlabel(\"Epoch\")\n",
        "  plt.ylabel(\"Value\")\n",
        "\n",
        "  for m in list_of_metrics:\n",
        "    x = hist[m]\n",
        "    plt.plot(epochs[1:], x[1:], label=m)\n",
        "\n",
        "  plt.legend()\n",
        "\n",
        "print(\"Loaded the plot_curve function.\")"
      ],
      "execution_count": 21,
      "outputs": [
        {
          "output_type": "stream",
          "text": [
            "Loaded the plot_curve function.\n"
          ],
          "name": "stdout"
        }
      ]
    },
    {
      "cell_type": "code",
      "metadata": {
        "id": "AGDM0Lj0oGy4"
      },
      "source": [
        "def create_model(my_learning_rate):\n",
        "  \"\"\"Create and compile a deep neural net.\"\"\"\n",
        "  \n",
        "  # All models in this course are sequential.\n",
        "  model = tf.keras.models.Sequential()\n",
        "\n",
        "  # The features are stored in a two-dimensional 28X28 array. \n",
        "  # Flatten that two-dimensional array into a a one-dimensional \n",
        "  # 784-element array.\n",
        "  model.add(tf.keras.layers.Flatten(input_shape=(28, 28)))\n",
        "\n",
        "  # Define the first hidden layer.   \n",
        "  model.add(tf.keras.layers.Dense(units=32, activation='relu'))\n",
        "  \n",
        "  # Define a dropout regularization layer. \n",
        "  model.add(tf.keras.layers.Dropout(rate=0.2))\n",
        "\n",
        "  # Define the output layer. The units parameter is set to 10 because\n",
        "  # the model must choose among 10 possible output values (representing\n",
        "  # the digits from 0 to 9, inclusive).\n",
        "  #\n",
        "  # Don't change this layer.\n",
        "  model.add(tf.keras.layers.Dense(units=10, activation='softmax'))     \n",
        "                           \n",
        "  # Construct the layers into a model that TensorFlow can execute.  \n",
        "  # Notice that the loss function for multi-class classification\n",
        "  # is different than the loss function for binary classification.  \n",
        "  model.compile(optimizer=tf.keras.optimizers.Adam(lr=my_learning_rate),\n",
        "                loss=\"sparse_categorical_crossentropy\",\n",
        "                metrics=['accuracy'])\n",
        "  \n",
        "  return model    \n",
        "\n",
        "\n",
        "def train_model(model, train_features, train_label, epochs,\n",
        "                batch_size=None, validation_split=0.1):\n",
        "  \"\"\"Train the model by feeding it data.\"\"\"\n",
        "\n",
        "  history = model.fit(x=train_features, y=train_label, batch_size=batch_size,\n",
        "                      epochs=epochs, shuffle=True, \n",
        "                      validation_split=validation_split)\n",
        " \n",
        "  # To track the progression of training, gather a snapshot\n",
        "  # of the model's metrics at each epoch. \n",
        "  epochs = history.epoch\n",
        "  hist = pd.DataFrame(history.history)\n",
        "\n",
        "  return epochs, hist   "
      ],
      "execution_count": 22,
      "outputs": []
    },
    {
      "cell_type": "code",
      "metadata": {
        "id": "mrJlbxkOoPP1",
        "outputId": "54056d6a-0cdb-4ce0-8d7f-843a2b0ac226",
        "colab": {
          "base_uri": "https://localhost:8080/",
          "height": 1000
        }
      },
      "source": [
        "# The following variables are the hyperparameters.\n",
        "learning_rate = 0.003\n",
        "epochs = 50\n",
        "batch_size = 4000\n",
        "validation_split = 0.2\n",
        "\n",
        "# Establish the model's topography.\n",
        "my_model = create_model(learning_rate)\n",
        "\n",
        "# Train the model on the normalized training set.\n",
        "epochs, hist = train_model(my_model, x_train_normalized, y_train, \n",
        "                           epochs, batch_size, validation_split)\n",
        "\n",
        "# Plot a graph of the metric vs. epochs.\n",
        "list_of_metrics_to_plot = ['accuracy']\n",
        "plot_curve(epochs, hist, list_of_metrics_to_plot)\n",
        "\n",
        "# Evaluate against the test set.\n",
        "print(\"\\n Evaluate the new model against the test set:\")\n",
        "my_model.evaluate(x=x_test_normalized, y=y_test, batch_size=batch_size)"
      ],
      "execution_count": 20,
      "outputs": [
        {
          "output_type": "stream",
          "text": [
            "Epoch 1/50\n",
            "12/12 [==============================] - 0s 37ms/step - loss: 1.6469 - accuracy: 0.4756 - val_loss: 0.9029 - val_accuracy: 0.7897\n",
            "Epoch 2/50\n",
            "12/12 [==============================] - 0s 23ms/step - loss: 0.8522 - accuracy: 0.7385 - val_loss: 0.5079 - val_accuracy: 0.8695\n",
            "Epoch 3/50\n",
            "12/12 [==============================] - 0s 23ms/step - loss: 0.6031 - accuracy: 0.8186 - val_loss: 0.3958 - val_accuracy: 0.8979\n",
            "Epoch 4/50\n",
            "12/12 [==============================] - 0s 22ms/step - loss: 0.5002 - accuracy: 0.8511 - val_loss: 0.3405 - val_accuracy: 0.9070\n",
            "Epoch 5/50\n",
            "12/12 [==============================] - 0s 23ms/step - loss: 0.4439 - accuracy: 0.8700 - val_loss: 0.3074 - val_accuracy: 0.9154\n",
            "Epoch 6/50\n",
            "12/12 [==============================] - 0s 24ms/step - loss: 0.4074 - accuracy: 0.8811 - val_loss: 0.2864 - val_accuracy: 0.9201\n",
            "Epoch 7/50\n",
            "12/12 [==============================] - 0s 24ms/step - loss: 0.3811 - accuracy: 0.8888 - val_loss: 0.2704 - val_accuracy: 0.9251\n",
            "Epoch 8/50\n",
            "12/12 [==============================] - 0s 23ms/step - loss: 0.3627 - accuracy: 0.8946 - val_loss: 0.2570 - val_accuracy: 0.9298\n",
            "Epoch 9/50\n",
            "12/12 [==============================] - 0s 24ms/step - loss: 0.3464 - accuracy: 0.9010 - val_loss: 0.2456 - val_accuracy: 0.9317\n",
            "Epoch 10/50\n",
            "12/12 [==============================] - 0s 24ms/step - loss: 0.3324 - accuracy: 0.9027 - val_loss: 0.2370 - val_accuracy: 0.9350\n",
            "Epoch 11/50\n",
            "12/12 [==============================] - 0s 23ms/step - loss: 0.3181 - accuracy: 0.9083 - val_loss: 0.2278 - val_accuracy: 0.9372\n",
            "Epoch 12/50\n",
            "12/12 [==============================] - 0s 23ms/step - loss: 0.3093 - accuracy: 0.9101 - val_loss: 0.2209 - val_accuracy: 0.9392\n",
            "Epoch 13/50\n",
            "12/12 [==============================] - 0s 24ms/step - loss: 0.2980 - accuracy: 0.9136 - val_loss: 0.2133 - val_accuracy: 0.9409\n",
            "Epoch 14/50\n",
            "12/12 [==============================] - 0s 23ms/step - loss: 0.2884 - accuracy: 0.9167 - val_loss: 0.2088 - val_accuracy: 0.9420\n",
            "Epoch 15/50\n",
            "12/12 [==============================] - 0s 25ms/step - loss: 0.2864 - accuracy: 0.9161 - val_loss: 0.2040 - val_accuracy: 0.9439\n",
            "Epoch 16/50\n",
            "12/12 [==============================] - 0s 23ms/step - loss: 0.2762 - accuracy: 0.9179 - val_loss: 0.1985 - val_accuracy: 0.9456\n",
            "Epoch 17/50\n",
            "12/12 [==============================] - 0s 23ms/step - loss: 0.2685 - accuracy: 0.9223 - val_loss: 0.1932 - val_accuracy: 0.9469\n",
            "Epoch 18/50\n",
            "12/12 [==============================] - 0s 22ms/step - loss: 0.2612 - accuracy: 0.9232 - val_loss: 0.1892 - val_accuracy: 0.9477\n",
            "Epoch 19/50\n",
            "12/12 [==============================] - 0s 25ms/step - loss: 0.2568 - accuracy: 0.9249 - val_loss: 0.1863 - val_accuracy: 0.9483\n",
            "Epoch 20/50\n",
            "12/12 [==============================] - 0s 24ms/step - loss: 0.2482 - accuracy: 0.9262 - val_loss: 0.1835 - val_accuracy: 0.9480\n",
            "Epoch 21/50\n",
            "12/12 [==============================] - 0s 23ms/step - loss: 0.2463 - accuracy: 0.9275 - val_loss: 0.1795 - val_accuracy: 0.9497\n",
            "Epoch 22/50\n",
            "12/12 [==============================] - 0s 24ms/step - loss: 0.2372 - accuracy: 0.9294 - val_loss: 0.1765 - val_accuracy: 0.9503\n",
            "Epoch 23/50\n",
            "12/12 [==============================] - 0s 24ms/step - loss: 0.2353 - accuracy: 0.9295 - val_loss: 0.1732 - val_accuracy: 0.9513\n",
            "Epoch 24/50\n",
            "12/12 [==============================] - 0s 24ms/step - loss: 0.2307 - accuracy: 0.9315 - val_loss: 0.1699 - val_accuracy: 0.9517\n",
            "Epoch 25/50\n",
            "12/12 [==============================] - 0s 23ms/step - loss: 0.2276 - accuracy: 0.9324 - val_loss: 0.1676 - val_accuracy: 0.9527\n",
            "Epoch 26/50\n",
            "12/12 [==============================] - 0s 23ms/step - loss: 0.2280 - accuracy: 0.9323 - val_loss: 0.1659 - val_accuracy: 0.9540\n",
            "Epoch 27/50\n",
            "12/12 [==============================] - 0s 23ms/step - loss: 0.2222 - accuracy: 0.9338 - val_loss: 0.1638 - val_accuracy: 0.9544\n",
            "Epoch 28/50\n",
            "12/12 [==============================] - 0s 24ms/step - loss: 0.2168 - accuracy: 0.9347 - val_loss: 0.1631 - val_accuracy: 0.9537\n",
            "Epoch 29/50\n",
            "12/12 [==============================] - 0s 23ms/step - loss: 0.2122 - accuracy: 0.9365 - val_loss: 0.1598 - val_accuracy: 0.9551\n",
            "Epoch 30/50\n",
            "12/12 [==============================] - 0s 26ms/step - loss: 0.2098 - accuracy: 0.9377 - val_loss: 0.1574 - val_accuracy: 0.9562\n",
            "Epoch 31/50\n",
            "12/12 [==============================] - 0s 23ms/step - loss: 0.2031 - accuracy: 0.9390 - val_loss: 0.1551 - val_accuracy: 0.9553\n",
            "Epoch 32/50\n",
            "12/12 [==============================] - 0s 22ms/step - loss: 0.2040 - accuracy: 0.9382 - val_loss: 0.1540 - val_accuracy: 0.9567\n",
            "Epoch 33/50\n",
            "12/12 [==============================] - 0s 24ms/step - loss: 0.2019 - accuracy: 0.9396 - val_loss: 0.1532 - val_accuracy: 0.9574\n",
            "Epoch 34/50\n",
            "12/12 [==============================] - 0s 24ms/step - loss: 0.1998 - accuracy: 0.9387 - val_loss: 0.1515 - val_accuracy: 0.9569\n",
            "Epoch 35/50\n",
            "12/12 [==============================] - 0s 24ms/step - loss: 0.1960 - accuracy: 0.9412 - val_loss: 0.1496 - val_accuracy: 0.9582\n",
            "Epoch 36/50\n",
            "12/12 [==============================] - 0s 25ms/step - loss: 0.1937 - accuracy: 0.9420 - val_loss: 0.1483 - val_accuracy: 0.9588\n",
            "Epoch 37/50\n",
            "12/12 [==============================] - 0s 23ms/step - loss: 0.1909 - accuracy: 0.9409 - val_loss: 0.1480 - val_accuracy: 0.9588\n",
            "Epoch 38/50\n",
            "12/12 [==============================] - 0s 25ms/step - loss: 0.1894 - accuracy: 0.9427 - val_loss: 0.1466 - val_accuracy: 0.9590\n",
            "Epoch 39/50\n",
            "12/12 [==============================] - 0s 23ms/step - loss: 0.1876 - accuracy: 0.9435 - val_loss: 0.1446 - val_accuracy: 0.9603\n",
            "Epoch 40/50\n",
            "12/12 [==============================] - 0s 25ms/step - loss: 0.1846 - accuracy: 0.9444 - val_loss: 0.1435 - val_accuracy: 0.9597\n",
            "Epoch 41/50\n",
            "12/12 [==============================] - 0s 24ms/step - loss: 0.1851 - accuracy: 0.9439 - val_loss: 0.1416 - val_accuracy: 0.9615\n",
            "Epoch 42/50\n",
            "12/12 [==============================] - 0s 23ms/step - loss: 0.1829 - accuracy: 0.9435 - val_loss: 0.1416 - val_accuracy: 0.9593\n",
            "Epoch 43/50\n",
            "12/12 [==============================] - 0s 24ms/step - loss: 0.1800 - accuracy: 0.9454 - val_loss: 0.1414 - val_accuracy: 0.9603\n",
            "Epoch 44/50\n",
            "12/12 [==============================] - 0s 23ms/step - loss: 0.1758 - accuracy: 0.9467 - val_loss: 0.1399 - val_accuracy: 0.9614\n",
            "Epoch 45/50\n",
            "12/12 [==============================] - 0s 23ms/step - loss: 0.1791 - accuracy: 0.9456 - val_loss: 0.1376 - val_accuracy: 0.9617\n",
            "Epoch 46/50\n",
            "12/12 [==============================] - 0s 24ms/step - loss: 0.1740 - accuracy: 0.9458 - val_loss: 0.1375 - val_accuracy: 0.9618\n",
            "Epoch 47/50\n",
            "12/12 [==============================] - 0s 24ms/step - loss: 0.1736 - accuracy: 0.9472 - val_loss: 0.1359 - val_accuracy: 0.9623\n",
            "Epoch 48/50\n",
            "12/12 [==============================] - 0s 23ms/step - loss: 0.1700 - accuracy: 0.9471 - val_loss: 0.1359 - val_accuracy: 0.9632\n",
            "Epoch 49/50\n",
            "12/12 [==============================] - 0s 26ms/step - loss: 0.1714 - accuracy: 0.9470 - val_loss: 0.1356 - val_accuracy: 0.9621\n",
            "Epoch 50/50\n",
            "12/12 [==============================] - 0s 23ms/step - loss: 0.1697 - accuracy: 0.9493 - val_loss: 0.1343 - val_accuracy: 0.9629\n",
            "\n",
            " Evaluate the new model against the test set:\n",
            "3/3 [==============================] - 0s 6ms/step - loss: 0.1372 - accuracy: 0.9603\n"
          ],
          "name": "stdout"
        },
        {
          "output_type": "execute_result",
          "data": {
            "text/plain": [
              "[0.13722412288188934, 0.9603000283241272]"
            ]
          },
          "metadata": {
            "tags": []
          },
          "execution_count": 20
        },
        {
          "output_type": "display_data",
          "data": {
            "image/png": "[encoded data removed]",
            "text/plain": [
              "<Figure size 432x288 with 1 Axes>"
            ]
          },
          "metadata": {
            "tags": [],
            "needs_background": "light"
          }
        }
      ]
    },
    {
      "cell_type": "markdown",
      "metadata": {
        "id": "GeVqqFnSs-7W"
      },
      "source": [
        "**Optimize the model**\n",
        "\n",
        "Experiment with the following:\n",
        "\n",
        "    number of hidden layers\n",
        "    number of nodes in each layer\n",
        "    dropout regularization rate\n"
      ]
    },
    {
      "cell_type": "code",
      "metadata": {
        "id": "2I1EiYqPsrMy",
        "outputId": "1584b5a1-32db-4703-e024-49a83ef382ca",
        "colab": {
          "base_uri": "https://localhost:8080/",
          "height": 1000
        }
      },
      "source": [
        "def create_model(my_learning_rate):\n",
        "  \"\"\"Create and compile a deep neural net.\"\"\"\n",
        "  \n",
        "  # All models in this course are sequential.\n",
        "  model = tf.keras.models.Sequential()\n",
        "\n",
        "  # The features are stored in a two-dimensional 28X28 array. \n",
        "  # Flatten that two-dimensional array into a a one-dimensional \n",
        "  # 784-element array.\n",
        "  model.add(tf.keras.layers.Flatten(input_shape=(28, 28)))\n",
        "\n",
        "  # Define the first hidden layer.   \n",
        "  model.add(tf.keras.layers.Dense(units=256, activation='relu'))\n",
        "  \n",
        "  # Define a dropout regularization layer. \n",
        "  model.add(tf.keras.layers.Dropout(rate=0.5))\n",
        "\n",
        "  # Define the second hidden layer.   \n",
        "  model.add(tf.keras.layers.Dense(units=128, activation='relu'))\n",
        "  \n",
        "  # Define a dropout regularization layer. \n",
        "  model.add(tf.keras.layers.Dropout(rate=0.25))\n",
        "\n",
        "  \n",
        "\n",
        "  # Define the second hidden layer.   \n",
        "  model.add(tf.keras.layers.Dense(units=32, activation='relu'))\n",
        "\n",
        "  # Define the output layer. The units parameter is set to 10 because\n",
        "  # the model must choose among 10 possible output values (representing\n",
        "  # the digits from 0 to 9, inclusive).\n",
        "  #\n",
        "  # Don't change this layer.\n",
        "  model.add(tf.keras.layers.Dense(units=10, activation='softmax'))     \n",
        "                           \n",
        "  # Construct the layers into a model that TensorFlow can execute.  \n",
        "  # Notice that the loss function for multi-class classification\n",
        "  # is different than the loss function for binary classification.  \n",
        "  model.compile(optimizer=tf.keras.optimizers.Adam(lr=my_learning_rate),\n",
        "                loss=\"sparse_categorical_crossentropy\",\n",
        "                metrics=['accuracy'])\n",
        "  \n",
        "  return model    \n",
        "\n",
        "\n",
        "def train_model(model, train_features, train_label, epochs,\n",
        "                batch_size=None, validation_split=0.1):\n",
        "  \"\"\"Train the model by feeding it data.\"\"\"\n",
        "\n",
        "  history = model.fit(x=train_features, y=train_label, batch_size=batch_size,\n",
        "                      epochs=epochs, shuffle=True, \n",
        "                      validation_split=validation_split)\n",
        " \n",
        "  # To track the progression of training, gather a snapshot\n",
        "  # of the model's metrics at each epoch. \n",
        "  epochs = history.epoch\n",
        "  hist = pd.DataFrame(history.history)\n",
        "\n",
        "  return epochs, hist   \n",
        "\n",
        "\n",
        "\n",
        "\n",
        "# The following variables are the hyperparameters.\n",
        "learning_rate = 0.01\n",
        "epochs = 100\n",
        "batch_size = 4000\n",
        "validation_split = 0.2\n",
        "\n",
        "# Establish the model's topography.\n",
        "my_model = create_model(learning_rate)\n",
        "\n",
        "# Train the model on the normalized training set.\n",
        "epochs, hist = train_model(my_model, x_train_normalized, y_train, \n",
        "                           epochs, batch_size, validation_split)\n",
        "\n",
        "# Plot a graph of the metric vs. epochs.\n",
        "list_of_metrics_to_plot = ['accuracy']\n",
        "plot_curve(epochs, hist, list_of_metrics_to_plot)\n",
        "\n",
        "# Evaluate against the test set.\n",
        "print(\"\\n Evaluate the new model against the test set:\")\n",
        "my_model.evaluate(x=x_test_normalized, y=y_test, batch_size=batch_size)"
      ],
      "execution_count": 38,
      "outputs": [
        {
          "output_type": "stream",
          "text": [
            "Epoch 1/100\n",
            "12/12 [==============================] - 1s 69ms/step - loss: 1.3174 - accuracy: 0.5499 - val_loss: 0.4519 - val_accuracy: 0.8760\n",
            "Epoch 2/100\n",
            "12/12 [==============================] - 1s 60ms/step - loss: 0.5449 - accuracy: 0.8306 - val_loss: 0.2772 - val_accuracy: 0.9204\n",
            "Epoch 3/100\n",
            "12/12 [==============================] - 1s 58ms/step - loss: 0.3938 - accuracy: 0.8814 - val_loss: 0.2122 - val_accuracy: 0.9388\n",
            "Epoch 4/100\n",
            "12/12 [==============================] - 1s 60ms/step - loss: 0.3290 - accuracy: 0.9028 - val_loss: 0.1826 - val_accuracy: 0.9479\n",
            "Epoch 5/100\n",
            "12/12 [==============================] - 1s 58ms/step - loss: 0.2885 - accuracy: 0.9143 - val_loss: 0.1753 - val_accuracy: 0.9494\n",
            "Epoch 6/100\n",
            "12/12 [==============================] - 1s 58ms/step - loss: 0.2622 - accuracy: 0.9220 - val_loss: 0.1564 - val_accuracy: 0.9548\n",
            "Epoch 7/100\n",
            "12/12 [==============================] - 1s 60ms/step - loss: 0.2395 - accuracy: 0.9280 - val_loss: 0.1415 - val_accuracy: 0.9596\n",
            "Epoch 8/100\n",
            "12/12 [==============================] - 1s 58ms/step - loss: 0.2259 - accuracy: 0.9318 - val_loss: 0.1369 - val_accuracy: 0.9600\n",
            "Epoch 9/100\n",
            "12/12 [==============================] - 1s 61ms/step - loss: 0.2105 - accuracy: 0.9369 - val_loss: 0.1324 - val_accuracy: 0.9617\n",
            "Epoch 10/100\n",
            "12/12 [==============================] - 1s 58ms/step - loss: 0.2037 - accuracy: 0.9380 - val_loss: 0.1247 - val_accuracy: 0.9641\n",
            "Epoch 11/100\n",
            "12/12 [==============================] - 1s 59ms/step - loss: 0.1935 - accuracy: 0.9428 - val_loss: 0.1262 - val_accuracy: 0.9638\n",
            "Epoch 12/100\n",
            "12/12 [==============================] - 1s 59ms/step - loss: 0.1884 - accuracy: 0.9439 - val_loss: 0.1208 - val_accuracy: 0.9663\n",
            "Epoch 13/100\n",
            "12/12 [==============================] - 1s 59ms/step - loss: 0.1810 - accuracy: 0.9464 - val_loss: 0.1235 - val_accuracy: 0.9637\n",
            "Epoch 14/100\n",
            "12/12 [==============================] - 1s 58ms/step - loss: 0.1717 - accuracy: 0.9469 - val_loss: 0.1170 - val_accuracy: 0.9657\n",
            "Epoch 15/100\n",
            "12/12 [==============================] - 1s 59ms/step - loss: 0.1733 - accuracy: 0.9481 - val_loss: 0.1115 - val_accuracy: 0.9672\n",
            "Epoch 16/100\n",
            "12/12 [==============================] - 1s 59ms/step - loss: 0.1650 - accuracy: 0.9499 - val_loss: 0.1111 - val_accuracy: 0.9667\n",
            "Epoch 17/100\n",
            "12/12 [==============================] - 1s 58ms/step - loss: 0.1607 - accuracy: 0.9516 - val_loss: 0.1174 - val_accuracy: 0.9668\n",
            "Epoch 18/100\n",
            "12/12 [==============================] - 1s 59ms/step - loss: 0.1580 - accuracy: 0.9525 - val_loss: 0.1106 - val_accuracy: 0.9685\n",
            "Epoch 19/100\n",
            "12/12 [==============================] - 1s 58ms/step - loss: 0.1562 - accuracy: 0.9517 - val_loss: 0.1136 - val_accuracy: 0.9671\n",
            "Epoch 20/100\n",
            "12/12 [==============================] - 1s 59ms/step - loss: 0.1502 - accuracy: 0.9544 - val_loss: 0.1045 - val_accuracy: 0.9698\n",
            "Epoch 21/100\n",
            "12/12 [==============================] - 1s 60ms/step - loss: 0.1498 - accuracy: 0.9538 - val_loss: 0.1065 - val_accuracy: 0.9696\n",
            "Epoch 22/100\n",
            "12/12 [==============================] - 1s 60ms/step - loss: 0.1428 - accuracy: 0.9559 - val_loss: 0.1035 - val_accuracy: 0.9703\n",
            "Epoch 23/100\n",
            "12/12 [==============================] - 1s 58ms/step - loss: 0.1398 - accuracy: 0.9563 - val_loss: 0.1057 - val_accuracy: 0.9698\n",
            "Epoch 24/100\n",
            "12/12 [==============================] - 1s 60ms/step - loss: 0.1401 - accuracy: 0.9572 - val_loss: 0.1026 - val_accuracy: 0.9698\n",
            "Epoch 25/100\n",
            "12/12 [==============================] - 1s 59ms/step - loss: 0.1368 - accuracy: 0.9588 - val_loss: 0.1023 - val_accuracy: 0.9704\n",
            "Epoch 26/100\n",
            "12/12 [==============================] - 1s 59ms/step - loss: 0.1337 - accuracy: 0.9598 - val_loss: 0.1065 - val_accuracy: 0.9698\n",
            "Epoch 27/100\n",
            "12/12 [==============================] - 1s 59ms/step - loss: 0.1351 - accuracy: 0.9588 - val_loss: 0.1026 - val_accuracy: 0.9697\n",
            "Epoch 28/100\n",
            "12/12 [==============================] - 1s 58ms/step - loss: 0.1331 - accuracy: 0.9595 - val_loss: 0.1018 - val_accuracy: 0.9708\n",
            "Epoch 29/100\n",
            "12/12 [==============================] - 1s 60ms/step - loss: 0.1296 - accuracy: 0.9605 - val_loss: 0.0988 - val_accuracy: 0.9716\n",
            "Epoch 30/100\n",
            "12/12 [==============================] - 1s 60ms/step - loss: 0.1268 - accuracy: 0.9607 - val_loss: 0.1002 - val_accuracy: 0.9715\n",
            "Epoch 31/100\n",
            "12/12 [==============================] - 1s 60ms/step - loss: 0.1264 - accuracy: 0.9611 - val_loss: 0.1017 - val_accuracy: 0.9716\n",
            "Epoch 32/100\n",
            "12/12 [==============================] - 1s 58ms/step - loss: 0.1260 - accuracy: 0.9609 - val_loss: 0.0983 - val_accuracy: 0.9716\n",
            "Epoch 33/100\n",
            "12/12 [==============================] - 1s 59ms/step - loss: 0.1203 - accuracy: 0.9625 - val_loss: 0.1004 - val_accuracy: 0.9707\n",
            "Epoch 34/100\n",
            "12/12 [==============================] - 1s 59ms/step - loss: 0.1215 - accuracy: 0.9626 - val_loss: 0.0981 - val_accuracy: 0.9721\n",
            "Epoch 35/100\n",
            "12/12 [==============================] - 1s 61ms/step - loss: 0.1261 - accuracy: 0.9616 - val_loss: 0.1022 - val_accuracy: 0.9706\n",
            "Epoch 36/100\n",
            "12/12 [==============================] - 1s 59ms/step - loss: 0.1235 - accuracy: 0.9616 - val_loss: 0.0968 - val_accuracy: 0.9729\n",
            "Epoch 37/100\n",
            "12/12 [==============================] - 1s 59ms/step - loss: 0.1178 - accuracy: 0.9633 - val_loss: 0.0955 - val_accuracy: 0.9732\n",
            "Epoch 38/100\n",
            "12/12 [==============================] - 1s 60ms/step - loss: 0.1188 - accuracy: 0.9638 - val_loss: 0.0992 - val_accuracy: 0.9712\n",
            "Epoch 39/100\n",
            "12/12 [==============================] - 1s 60ms/step - loss: 0.1114 - accuracy: 0.9649 - val_loss: 0.0999 - val_accuracy: 0.9720\n",
            "Epoch 40/100\n",
            "12/12 [==============================] - 1s 58ms/step - loss: 0.1152 - accuracy: 0.9648 - val_loss: 0.0956 - val_accuracy: 0.9728\n",
            "Epoch 41/100\n",
            "12/12 [==============================] - 1s 60ms/step - loss: 0.1165 - accuracy: 0.9642 - val_loss: 0.1006 - val_accuracy: 0.9722\n",
            "Epoch 42/100\n",
            "12/12 [==============================] - 1s 60ms/step - loss: 0.1177 - accuracy: 0.9641 - val_loss: 0.0939 - val_accuracy: 0.9742\n",
            "Epoch 43/100\n",
            "12/12 [==============================] - 1s 59ms/step - loss: 0.1123 - accuracy: 0.9639 - val_loss: 0.0981 - val_accuracy: 0.9721\n",
            "Epoch 44/100\n",
            "12/12 [==============================] - 1s 59ms/step - loss: 0.1083 - accuracy: 0.9656 - val_loss: 0.0973 - val_accuracy: 0.9730\n",
            "Epoch 45/100\n",
            "12/12 [==============================] - 1s 58ms/step - loss: 0.1127 - accuracy: 0.9649 - val_loss: 0.0985 - val_accuracy: 0.9728\n",
            "Epoch 46/100\n",
            "12/12 [==============================] - 1s 60ms/step - loss: 0.1146 - accuracy: 0.9649 - val_loss: 0.0962 - val_accuracy: 0.9732\n",
            "Epoch 47/100\n",
            "12/12 [==============================] - 1s 60ms/step - loss: 0.1117 - accuracy: 0.9651 - val_loss: 0.0947 - val_accuracy: 0.9743\n",
            "Epoch 48/100\n",
            "12/12 [==============================] - 1s 59ms/step - loss: 0.1102 - accuracy: 0.9657 - val_loss: 0.0948 - val_accuracy: 0.9734\n",
            "Epoch 49/100\n",
            "12/12 [==============================] - 1s 59ms/step - loss: 0.1098 - accuracy: 0.9655 - val_loss: 0.0981 - val_accuracy: 0.9732\n",
            "Epoch 50/100\n",
            "12/12 [==============================] - 1s 61ms/step - loss: 0.1102 - accuracy: 0.9655 - val_loss: 0.0939 - val_accuracy: 0.9737\n",
            "Epoch 51/100\n",
            "12/12 [==============================] - 1s 59ms/step - loss: 0.1133 - accuracy: 0.9648 - val_loss: 0.0918 - val_accuracy: 0.9741\n",
            "Epoch 52/100\n",
            "12/12 [==============================] - 1s 59ms/step - loss: 0.1138 - accuracy: 0.9650 - val_loss: 0.0933 - val_accuracy: 0.9748\n",
            "Epoch 53/100\n",
            "12/12 [==============================] - 1s 60ms/step - loss: 0.1058 - accuracy: 0.9677 - val_loss: 0.0941 - val_accuracy: 0.9748\n",
            "Epoch 54/100\n",
            "12/12 [==============================] - 1s 59ms/step - loss: 0.1002 - accuracy: 0.9691 - val_loss: 0.0951 - val_accuracy: 0.9748\n",
            "Epoch 55/100\n",
            "12/12 [==============================] - 1s 61ms/step - loss: 0.1021 - accuracy: 0.9678 - val_loss: 0.0961 - val_accuracy: 0.9746\n",
            "Epoch 56/100\n",
            "12/12 [==============================] - 1s 60ms/step - loss: 0.1048 - accuracy: 0.9682 - val_loss: 0.0936 - val_accuracy: 0.9744\n",
            "Epoch 57/100\n",
            "12/12 [==============================] - 1s 58ms/step - loss: 0.1020 - accuracy: 0.9678 - val_loss: 0.0969 - val_accuracy: 0.9747\n",
            "Epoch 58/100\n",
            "12/12 [==============================] - 1s 61ms/step - loss: 0.1018 - accuracy: 0.9689 - val_loss: 0.0907 - val_accuracy: 0.9745\n",
            "Epoch 59/100\n",
            "12/12 [==============================] - 1s 59ms/step - loss: 0.1025 - accuracy: 0.9681 - val_loss: 0.0923 - val_accuracy: 0.9754\n",
            "Epoch 60/100\n",
            "12/12 [==============================] - 1s 59ms/step - loss: 0.0995 - accuracy: 0.9700 - val_loss: 0.0928 - val_accuracy: 0.9753\n",
            "Epoch 61/100\n",
            "12/12 [==============================] - 1s 58ms/step - loss: 0.1003 - accuracy: 0.9686 - val_loss: 0.0936 - val_accuracy: 0.9747\n",
            "Epoch 62/100\n",
            "12/12 [==============================] - 1s 60ms/step - loss: 0.0998 - accuracy: 0.9691 - val_loss: 0.0960 - val_accuracy: 0.9733\n",
            "Epoch 63/100\n",
            "12/12 [==============================] - 1s 61ms/step - loss: 0.1078 - accuracy: 0.9670 - val_loss: 0.0970 - val_accuracy: 0.9732\n",
            "Epoch 64/100\n",
            "12/12 [==============================] - 1s 61ms/step - loss: 0.1010 - accuracy: 0.9696 - val_loss: 0.0983 - val_accuracy: 0.9732\n",
            "Epoch 65/100\n",
            "12/12 [==============================] - 1s 59ms/step - loss: 0.1005 - accuracy: 0.9690 - val_loss: 0.0950 - val_accuracy: 0.9733\n",
            "Epoch 66/100\n",
            "12/12 [==============================] - 1s 60ms/step - loss: 0.0996 - accuracy: 0.9689 - val_loss: 0.0968 - val_accuracy: 0.9747\n",
            "Epoch 67/100\n",
            "12/12 [==============================] - 1s 60ms/step - loss: 0.1011 - accuracy: 0.9691 - val_loss: 0.0913 - val_accuracy: 0.9740\n",
            "Epoch 68/100\n",
            "12/12 [==============================] - 1s 59ms/step - loss: 0.0974 - accuracy: 0.9695 - val_loss: 0.0963 - val_accuracy: 0.9743\n",
            "Epoch 69/100\n",
            "12/12 [==============================] - 1s 61ms/step - loss: 0.0976 - accuracy: 0.9696 - val_loss: 0.0954 - val_accuracy: 0.9734\n",
            "Epoch 70/100\n",
            "12/12 [==============================] - 1s 60ms/step - loss: 0.0965 - accuracy: 0.9695 - val_loss: 0.0916 - val_accuracy: 0.9757\n",
            "Epoch 71/100\n",
            "12/12 [==============================] - 1s 60ms/step - loss: 0.0931 - accuracy: 0.9707 - val_loss: 0.0927 - val_accuracy: 0.9744\n",
            "Epoch 72/100\n",
            "12/12 [==============================] - 1s 61ms/step - loss: 0.0964 - accuracy: 0.9697 - val_loss: 0.0967 - val_accuracy: 0.9748\n",
            "Epoch 73/100\n",
            "12/12 [==============================] - 1s 58ms/step - loss: 0.0915 - accuracy: 0.9716 - val_loss: 0.0947 - val_accuracy: 0.9742\n",
            "Epoch 74/100\n",
            "12/12 [==============================] - 1s 60ms/step - loss: 0.0954 - accuracy: 0.9701 - val_loss: 0.0944 - val_accuracy: 0.9747\n",
            "Epoch 75/100\n",
            "12/12 [==============================] - 1s 61ms/step - loss: 0.0920 - accuracy: 0.9715 - val_loss: 0.0948 - val_accuracy: 0.9747\n",
            "Epoch 76/100\n",
            "12/12 [==============================] - 1s 58ms/step - loss: 0.0932 - accuracy: 0.9715 - val_loss: 0.0944 - val_accuracy: 0.9761\n",
            "Epoch 77/100\n",
            "12/12 [==============================] - 1s 59ms/step - loss: 0.0940 - accuracy: 0.9707 - val_loss: 0.0937 - val_accuracy: 0.9744\n",
            "Epoch 78/100\n",
            "12/12 [==============================] - 1s 60ms/step - loss: 0.0921 - accuracy: 0.9707 - val_loss: 0.0961 - val_accuracy: 0.9743\n",
            "Epoch 79/100\n",
            "12/12 [==============================] - 1s 60ms/step - loss: 0.0918 - accuracy: 0.9713 - val_loss: 0.0913 - val_accuracy: 0.9751\n",
            "Epoch 80/100\n",
            "12/12 [==============================] - 1s 62ms/step - loss: 0.0919 - accuracy: 0.9719 - val_loss: 0.0932 - val_accuracy: 0.9738\n",
            "Epoch 81/100\n",
            "12/12 [==============================] - 1s 60ms/step - loss: 0.0866 - accuracy: 0.9726 - val_loss: 0.0949 - val_accuracy: 0.9744\n",
            "Epoch 82/100\n",
            "12/12 [==============================] - 1s 59ms/step - loss: 0.0917 - accuracy: 0.9716 - val_loss: 0.0964 - val_accuracy: 0.9746\n",
            "Epoch 83/100\n",
            "12/12 [==============================] - 1s 61ms/step - loss: 0.0943 - accuracy: 0.9711 - val_loss: 0.0950 - val_accuracy: 0.9754\n",
            "Epoch 84/100\n",
            "12/12 [==============================] - 1s 60ms/step - loss: 0.0896 - accuracy: 0.9721 - val_loss: 0.0955 - val_accuracy: 0.9737\n",
            "Epoch 85/100\n",
            "12/12 [==============================] - 1s 59ms/step - loss: 0.0920 - accuracy: 0.9713 - val_loss: 0.0923 - val_accuracy: 0.9755\n",
            "Epoch 86/100\n",
            "12/12 [==============================] - 1s 60ms/step - loss: 0.0904 - accuracy: 0.9723 - val_loss: 0.0950 - val_accuracy: 0.9750\n",
            "Epoch 87/100\n",
            "12/12 [==============================] - 1s 60ms/step - loss: 0.0923 - accuracy: 0.9712 - val_loss: 0.0957 - val_accuracy: 0.9749\n",
            "Epoch 88/100\n",
            "12/12 [==============================] - 1s 61ms/step - loss: 0.0919 - accuracy: 0.9721 - val_loss: 0.1001 - val_accuracy: 0.9728\n",
            "Epoch 89/100\n",
            "12/12 [==============================] - 1s 60ms/step - loss: 0.0930 - accuracy: 0.9719 - val_loss: 0.0948 - val_accuracy: 0.9752\n",
            "Epoch 90/100\n",
            "12/12 [==============================] - 1s 59ms/step - loss: 0.0928 - accuracy: 0.9710 - val_loss: 0.1001 - val_accuracy: 0.9733\n",
            "Epoch 91/100\n",
            "12/12 [==============================] - 1s 60ms/step - loss: 0.0930 - accuracy: 0.9712 - val_loss: 0.0986 - val_accuracy: 0.9751\n",
            "Epoch 92/100\n",
            "12/12 [==============================] - 1s 60ms/step - loss: 0.0915 - accuracy: 0.9708 - val_loss: 0.0957 - val_accuracy: 0.9738\n",
            "Epoch 93/100\n",
            "12/12 [==============================] - 1s 79ms/step - loss: 0.0908 - accuracy: 0.9721 - val_loss: 0.0928 - val_accuracy: 0.9746\n",
            "Epoch 94/100\n",
            "12/12 [==============================] - 1s 108ms/step - loss: 0.0889 - accuracy: 0.9721 - val_loss: 0.0992 - val_accuracy: 0.9745\n",
            "Epoch 95/100\n",
            "12/12 [==============================] - 1s 108ms/step - loss: 0.0874 - accuracy: 0.9726 - val_loss: 0.0931 - val_accuracy: 0.9759\n",
            "Epoch 96/100\n",
            "12/12 [==============================] - 1s 103ms/step - loss: 0.0856 - accuracy: 0.9736 - val_loss: 0.0956 - val_accuracy: 0.9753\n",
            "Epoch 97/100\n",
            "12/12 [==============================] - 1s 107ms/step - loss: 0.0858 - accuracy: 0.9736 - val_loss: 0.1008 - val_accuracy: 0.9742\n",
            "Epoch 98/100\n",
            "12/12 [==============================] - 1s 110ms/step - loss: 0.0874 - accuracy: 0.9726 - val_loss: 0.0947 - val_accuracy: 0.9751\n",
            "Epoch 99/100\n",
            "12/12 [==============================] - 1s 99ms/step - loss: 0.0860 - accuracy: 0.9739 - val_loss: 0.0975 - val_accuracy: 0.9744\n",
            "Epoch 100/100\n",
            "12/12 [==============================] - 1s 60ms/step - loss: 0.0883 - accuracy: 0.9722 - val_loss: 0.0944 - val_accuracy: 0.9760\n",
            "\n",
            " Evaluate the new model against the test set:\n",
            "3/3 [==============================] - 0s 12ms/step - loss: 0.0988 - accuracy: 0.9731\n"
          ],
          "name": "stdout"
        },
        {
          "output_type": "execute_result",
          "data": {
            "text/plain": [
              "[0.0987689346075058, 0.9731000065803528]"
            ]
          },
          "metadata": {
            "tags": []
          },
          "execution_count": 38
        },
        {
          "output_type": "display_data",
          "data": {
            "image/png": "[encoded data removed]",
            "text/plain": [
              "<Figure size 432x288 with 1 Axes>"
            ]
          },
          "metadata": {
            "tags": [],
            "needs_background": "light"
          }
        }
      ]
    },
    {
      "cell_type": "code",
      "metadata": {
        "id": "kzlzXC8S2spC",
        "outputId": "de28d89d-414f-4b18-fd6c-fc45661721b1",
        "colab": {
          "base_uri": "https://localhost:8080/",
          "height": 1000
        }
      },
      "source": [
        "def create_model(my_learning_rate):\n",
        "  \"\"\"Create and compile a deep neural net.\"\"\"\n",
        "  \n",
        "  # All models in this course are sequential.\n",
        "  model = tf.keras.models.Sequential()\n",
        "\n",
        "  # The features are stored in a two-dimensional 28X28 array. \n",
        "  # Flatten that two-dimensional array into a a one-dimensional \n",
        "  # 784-element array.\n",
        "  model.add(tf.keras.layers.Flatten(input_shape=(28, 28)))\n",
        "\n",
        "  # Define the first hidden layer.   \n",
        "  model.add(tf.keras.layers.Dense(units=256, activation='relu'))\n",
        "  \n",
        "  # Define a dropout regularization layer. \n",
        "  model.add(tf.keras.layers.Dropout(rate=0.5))\n",
        "\n",
        "  # Define the second hidden layer.   \n",
        "  model.add(tf.keras.layers.Dense(units=128, activation='relu'))\n",
        "  \n",
        "  # Define a dropout regularization layer. \n",
        "  #model.add(tf.keras.layers.Dropout(rate=0.5))\n",
        "\n",
        "   # Define the third hidden layer.   \n",
        "  model.add(tf.keras.layers.Dense(units=64, activation='relu'))\n",
        "  \n",
        "  # Define a dropout regularization layer. \n",
        "  #model.add(tf.keras.layers.Dropout(rate=0.1))\n",
        "\n",
        "  # Define the fourth hidden layer.   \n",
        "  model.add(tf.keras.layers.Dense(units=32, activation='relu'))\n",
        "\n",
        "  # Define the output layer. The units parameter is set to 10 because\n",
        "  # the model must choose among 10 possible output values (representing\n",
        "  # the digits from 0 to 9, inclusive).\n",
        "  #\n",
        "  # Don't change this layer.\n",
        "  model.add(tf.keras.layers.Dense(units=10, activation='softmax'))     \n",
        "                           \n",
        "  # Construct the layers into a model that TensorFlow can execute.  \n",
        "  # Notice that the loss function for multi-class classification\n",
        "  # is different than the loss function for binary classification.  \n",
        "  model.compile(optimizer=tf.keras.optimizers.Adam(lr=my_learning_rate),\n",
        "                loss=\"sparse_categorical_crossentropy\",\n",
        "                metrics=['accuracy'])\n",
        "  \n",
        "  return model    \n",
        "\n",
        "\n",
        "def train_model(model, train_features, train_label, epochs,\n",
        "                batch_size=None, validation_split=0.1):\n",
        "  \"\"\"Train the model by feeding it data.\"\"\"\n",
        "\n",
        "  history = model.fit(x=train_features, y=train_label, batch_size=batch_size,\n",
        "                      epochs=epochs, shuffle=True, \n",
        "                      validation_split=validation_split)\n",
        " \n",
        "  # To track the progression of training, gather a snapshot\n",
        "  # of the model's metrics at each epoch. \n",
        "  epochs = history.epoch\n",
        "  hist = pd.DataFrame(history.history)\n",
        "\n",
        "  return epochs, hist   \n",
        "\n",
        "\n",
        "\n",
        "\n",
        "# The following variables are the hyperparameters.\n",
        "learning_rate = 0.01\n",
        "epochs = 100\n",
        "batch_size = 4000\n",
        "validation_split = 0.2\n",
        "\n",
        "# Establish the model's topography.\n",
        "my_model = create_model(learning_rate)\n",
        "\n",
        "# Train the model on the normalized training set.\n",
        "epochs, hist = train_model(my_model, x_train_normalized, y_train, \n",
        "                           epochs, batch_size, validation_split)\n",
        "\n",
        "# Plot a graph of the metric vs. epochs.\n",
        "list_of_metrics_to_plot = ['accuracy']\n",
        "plot_curve(epochs, hist, list_of_metrics_to_plot)\n",
        "\n",
        "# Evaluate against the test set.\n",
        "print(\"\\n Evaluate the new model against the test set:\")\n",
        "my_model.evaluate(x=x_test_normalized, y=y_test, batch_size=batch_size)"
      ],
      "execution_count": 47,
      "outputs": [
        {
          "output_type": "stream",
          "text": [
            "Epoch 1/100\n",
            "12/12 [==============================] - 1s 122ms/step - loss: 1.5021 - accuracy: 0.4677 - val_loss: 0.5651 - val_accuracy: 0.8355\n",
            "Epoch 2/100\n",
            "12/12 [==============================] - 1s 108ms/step - loss: 0.5239 - accuracy: 0.8405 - val_loss: 0.2769 - val_accuracy: 0.9190\n",
            "Epoch 3/100\n",
            "12/12 [==============================] - 1s 102ms/step - loss: 0.3264 - accuracy: 0.9061 - val_loss: 0.1966 - val_accuracy: 0.9417\n",
            "Epoch 4/100\n",
            "12/12 [==============================] - 1s 104ms/step - loss: 0.2427 - accuracy: 0.9291 - val_loss: 0.1561 - val_accuracy: 0.9533\n",
            "Epoch 5/100\n",
            "12/12 [==============================] - 1s 103ms/step - loss: 0.2030 - accuracy: 0.9407 - val_loss: 0.1432 - val_accuracy: 0.9572\n",
            "Epoch 6/100\n",
            "12/12 [==============================] - 1s 104ms/step - loss: 0.1735 - accuracy: 0.9492 - val_loss: 0.1246 - val_accuracy: 0.9628\n",
            "Epoch 7/100\n",
            "12/12 [==============================] - 1s 104ms/step - loss: 0.1565 - accuracy: 0.9531 - val_loss: 0.1111 - val_accuracy: 0.9674\n",
            "Epoch 8/100\n",
            "12/12 [==============================] - 1s 102ms/step - loss: 0.1405 - accuracy: 0.9576 - val_loss: 0.1091 - val_accuracy: 0.9664\n",
            "Epoch 9/100\n",
            "12/12 [==============================] - 1s 106ms/step - loss: 0.1313 - accuracy: 0.9607 - val_loss: 0.1039 - val_accuracy: 0.9712\n",
            "Epoch 10/100\n",
            "12/12 [==============================] - 1s 103ms/step - loss: 0.1216 - accuracy: 0.9625 - val_loss: 0.1021 - val_accuracy: 0.9705\n",
            "Epoch 11/100\n",
            "12/12 [==============================] - 1s 104ms/step - loss: 0.1172 - accuracy: 0.9634 - val_loss: 0.0970 - val_accuracy: 0.9725\n",
            "Epoch 12/100\n",
            "12/12 [==============================] - 1s 105ms/step - loss: 0.1083 - accuracy: 0.9660 - val_loss: 0.1023 - val_accuracy: 0.9714\n",
            "Epoch 13/100\n",
            "12/12 [==============================] - 1s 104ms/step - loss: 0.1019 - accuracy: 0.9677 - val_loss: 0.0903 - val_accuracy: 0.9740\n",
            "Epoch 14/100\n",
            "12/12 [==============================] - 1s 106ms/step - loss: 0.1037 - accuracy: 0.9672 - val_loss: 0.0988 - val_accuracy: 0.9713\n",
            "Epoch 15/100\n",
            "12/12 [==============================] - 1s 104ms/step - loss: 0.0948 - accuracy: 0.9692 - val_loss: 0.0901 - val_accuracy: 0.9756\n",
            "Epoch 16/100\n",
            "12/12 [==============================] - 1s 104ms/step - loss: 0.0898 - accuracy: 0.9707 - val_loss: 0.0908 - val_accuracy: 0.9729\n",
            "Epoch 17/100\n",
            "12/12 [==============================] - 1s 107ms/step - loss: 0.0873 - accuracy: 0.9723 - val_loss: 0.0891 - val_accuracy: 0.9744\n",
            "Epoch 18/100\n",
            "12/12 [==============================] - 1s 105ms/step - loss: 0.0833 - accuracy: 0.9731 - val_loss: 0.0823 - val_accuracy: 0.9769\n",
            "Epoch 19/100\n",
            "12/12 [==============================] - 1s 106ms/step - loss: 0.0785 - accuracy: 0.9750 - val_loss: 0.0899 - val_accuracy: 0.9762\n",
            "Epoch 20/100\n",
            "12/12 [==============================] - 1s 107ms/step - loss: 0.0770 - accuracy: 0.9744 - val_loss: 0.0892 - val_accuracy: 0.9756\n",
            "Epoch 21/100\n",
            "12/12 [==============================] - 1s 106ms/step - loss: 0.0735 - accuracy: 0.9755 - val_loss: 0.0879 - val_accuracy: 0.9749\n",
            "Epoch 22/100\n",
            "12/12 [==============================] - 1s 103ms/step - loss: 0.0746 - accuracy: 0.9746 - val_loss: 0.0888 - val_accuracy: 0.9762\n",
            "Epoch 23/100\n",
            "12/12 [==============================] - 1s 107ms/step - loss: 0.0734 - accuracy: 0.9764 - val_loss: 0.0898 - val_accuracy: 0.9741\n",
            "Epoch 24/100\n",
            "12/12 [==============================] - 1s 104ms/step - loss: 0.0731 - accuracy: 0.9773 - val_loss: 0.0909 - val_accuracy: 0.9761\n",
            "Epoch 25/100\n",
            "12/12 [==============================] - 1s 105ms/step - loss: 0.0723 - accuracy: 0.9764 - val_loss: 0.0854 - val_accuracy: 0.9763\n",
            "Epoch 26/100\n",
            "12/12 [==============================] - 1s 104ms/step - loss: 0.0754 - accuracy: 0.9755 - val_loss: 0.0873 - val_accuracy: 0.9766\n",
            "Epoch 27/100\n",
            "12/12 [==============================] - 1s 104ms/step - loss: 0.0677 - accuracy: 0.9776 - val_loss: 0.0877 - val_accuracy: 0.9769\n",
            "Epoch 28/100\n",
            "12/12 [==============================] - 1s 104ms/step - loss: 0.0694 - accuracy: 0.9771 - val_loss: 0.0815 - val_accuracy: 0.9781\n",
            "Epoch 29/100\n",
            "12/12 [==============================] - 1s 104ms/step - loss: 0.0639 - accuracy: 0.9792 - val_loss: 0.0878 - val_accuracy: 0.9769\n",
            "Epoch 30/100\n",
            "12/12 [==============================] - 1s 106ms/step - loss: 0.0674 - accuracy: 0.9778 - val_loss: 0.0836 - val_accuracy: 0.9779\n",
            "Epoch 31/100\n",
            "12/12 [==============================] - 1s 104ms/step - loss: 0.0645 - accuracy: 0.9787 - val_loss: 0.0808 - val_accuracy: 0.9781\n",
            "Epoch 32/100\n",
            "12/12 [==============================] - 1s 105ms/step - loss: 0.0649 - accuracy: 0.9787 - val_loss: 0.0865 - val_accuracy: 0.9784\n",
            "Epoch 33/100\n",
            "12/12 [==============================] - 1s 106ms/step - loss: 0.0622 - accuracy: 0.9791 - val_loss: 0.0846 - val_accuracy: 0.9769\n",
            "Epoch 34/100\n",
            "12/12 [==============================] - 1s 104ms/step - loss: 0.0596 - accuracy: 0.9805 - val_loss: 0.0835 - val_accuracy: 0.9779\n",
            "Epoch 35/100\n",
            "12/12 [==============================] - 1s 104ms/step - loss: 0.0598 - accuracy: 0.9803 - val_loss: 0.0855 - val_accuracy: 0.9769\n",
            "Epoch 36/100\n",
            "12/12 [==============================] - 1s 105ms/step - loss: 0.0562 - accuracy: 0.9818 - val_loss: 0.0813 - val_accuracy: 0.9790\n",
            "Epoch 37/100\n",
            "12/12 [==============================] - 1s 103ms/step - loss: 0.0558 - accuracy: 0.9818 - val_loss: 0.0844 - val_accuracy: 0.9778\n",
            "Epoch 38/100\n",
            "12/12 [==============================] - 1s 105ms/step - loss: 0.0536 - accuracy: 0.9828 - val_loss: 0.0819 - val_accuracy: 0.9798\n",
            "Epoch 39/100\n",
            "12/12 [==============================] - 1s 104ms/step - loss: 0.0557 - accuracy: 0.9811 - val_loss: 0.0849 - val_accuracy: 0.9788\n",
            "Epoch 40/100\n",
            "12/12 [==============================] - 1s 103ms/step - loss: 0.0554 - accuracy: 0.9818 - val_loss: 0.0802 - val_accuracy: 0.9797\n",
            "Epoch 41/100\n",
            "12/12 [==============================] - 1s 105ms/step - loss: 0.0514 - accuracy: 0.9824 - val_loss: 0.0836 - val_accuracy: 0.9791\n",
            "Epoch 42/100\n",
            "12/12 [==============================] - 1s 104ms/step - loss: 0.0470 - accuracy: 0.9845 - val_loss: 0.0849 - val_accuracy: 0.9781\n",
            "Epoch 43/100\n",
            "12/12 [==============================] - 1s 105ms/step - loss: 0.0486 - accuracy: 0.9842 - val_loss: 0.0879 - val_accuracy: 0.9786\n",
            "Epoch 44/100\n",
            "12/12 [==============================] - 1s 104ms/step - loss: 0.0483 - accuracy: 0.9844 - val_loss: 0.0824 - val_accuracy: 0.9790\n",
            "Epoch 45/100\n",
            "12/12 [==============================] - 1s 102ms/step - loss: 0.0506 - accuracy: 0.9836 - val_loss: 0.0841 - val_accuracy: 0.9780\n",
            "Epoch 46/100\n",
            "12/12 [==============================] - 1s 106ms/step - loss: 0.0455 - accuracy: 0.9845 - val_loss: 0.0905 - val_accuracy: 0.9775\n",
            "Epoch 47/100\n",
            "12/12 [==============================] - 1s 105ms/step - loss: 0.0485 - accuracy: 0.9840 - val_loss: 0.0836 - val_accuracy: 0.9784\n",
            "Epoch 48/100\n",
            "12/12 [==============================] - 1s 104ms/step - loss: 0.0483 - accuracy: 0.9841 - val_loss: 0.0876 - val_accuracy: 0.9788\n",
            "Epoch 49/100\n",
            "12/12 [==============================] - 1s 104ms/step - loss: 0.0477 - accuracy: 0.9841 - val_loss: 0.0855 - val_accuracy: 0.9787\n",
            "Epoch 50/100\n",
            "12/12 [==============================] - 1s 103ms/step - loss: 0.0496 - accuracy: 0.9832 - val_loss: 0.0881 - val_accuracy: 0.9774\n",
            "Epoch 51/100\n",
            "12/12 [==============================] - 1s 105ms/step - loss: 0.0484 - accuracy: 0.9836 - val_loss: 0.0790 - val_accuracy: 0.9803\n",
            "Epoch 52/100\n",
            "12/12 [==============================] - 1s 103ms/step - loss: 0.0474 - accuracy: 0.9849 - val_loss: 0.0864 - val_accuracy: 0.9796\n",
            "Epoch 53/100\n",
            "12/12 [==============================] - 1s 103ms/step - loss: 0.0466 - accuracy: 0.9850 - val_loss: 0.0842 - val_accuracy: 0.9793\n",
            "Epoch 54/100\n",
            "12/12 [==============================] - 1s 106ms/step - loss: 0.0450 - accuracy: 0.9845 - val_loss: 0.0834 - val_accuracy: 0.9798\n",
            "Epoch 55/100\n",
            "12/12 [==============================] - 1s 104ms/step - loss: 0.0452 - accuracy: 0.9846 - val_loss: 0.0800 - val_accuracy: 0.9808\n",
            "Epoch 56/100\n",
            "12/12 [==============================] - 1s 104ms/step - loss: 0.0470 - accuracy: 0.9839 - val_loss: 0.0804 - val_accuracy: 0.9786\n",
            "Epoch 57/100\n",
            "12/12 [==============================] - 1s 104ms/step - loss: 0.0458 - accuracy: 0.9848 - val_loss: 0.0873 - val_accuracy: 0.9789\n",
            "Epoch 58/100\n",
            "12/12 [==============================] - 1s 106ms/step - loss: 0.0444 - accuracy: 0.9850 - val_loss: 0.0814 - val_accuracy: 0.9783\n",
            "Epoch 59/100\n",
            "12/12 [==============================] - 1s 106ms/step - loss: 0.0462 - accuracy: 0.9848 - val_loss: 0.0855 - val_accuracy: 0.9788\n",
            "Epoch 60/100\n",
            "12/12 [==============================] - 1s 104ms/step - loss: 0.0447 - accuracy: 0.9859 - val_loss: 0.0868 - val_accuracy: 0.9792\n",
            "Epoch 61/100\n",
            "12/12 [==============================] - 1s 106ms/step - loss: 0.0480 - accuracy: 0.9842 - val_loss: 0.0796 - val_accuracy: 0.9802\n",
            "Epoch 62/100\n",
            "12/12 [==============================] - 1s 108ms/step - loss: 0.0420 - accuracy: 0.9862 - val_loss: 0.0828 - val_accuracy: 0.9797\n",
            "Epoch 63/100\n",
            "12/12 [==============================] - 1s 104ms/step - loss: 0.0413 - accuracy: 0.9866 - val_loss: 0.0820 - val_accuracy: 0.9803\n",
            "Epoch 64/100\n",
            "12/12 [==============================] - 1s 105ms/step - loss: 0.0402 - accuracy: 0.9874 - val_loss: 0.0794 - val_accuracy: 0.9808\n",
            "Epoch 65/100\n",
            "12/12 [==============================] - 1s 106ms/step - loss: 0.0382 - accuracy: 0.9874 - val_loss: 0.0792 - val_accuracy: 0.9807\n",
            "Epoch 66/100\n",
            "12/12 [==============================] - 1s 105ms/step - loss: 0.0381 - accuracy: 0.9874 - val_loss: 0.0773 - val_accuracy: 0.9810\n",
            "Epoch 67/100\n",
            "12/12 [==============================] - 1s 106ms/step - loss: 0.0404 - accuracy: 0.9868 - val_loss: 0.0809 - val_accuracy: 0.9812\n",
            "Epoch 68/100\n",
            "12/12 [==============================] - 1s 104ms/step - loss: 0.0403 - accuracy: 0.9868 - val_loss: 0.0799 - val_accuracy: 0.9808\n",
            "Epoch 69/100\n",
            "12/12 [==============================] - 1s 106ms/step - loss: 0.0386 - accuracy: 0.9872 - val_loss: 0.0788 - val_accuracy: 0.9794\n",
            "Epoch 70/100\n",
            "12/12 [==============================] - 1s 104ms/step - loss: 0.0364 - accuracy: 0.9882 - val_loss: 0.0865 - val_accuracy: 0.9797\n",
            "Epoch 71/100\n",
            "12/12 [==============================] - 1s 105ms/step - loss: 0.0369 - accuracy: 0.9880 - val_loss: 0.0849 - val_accuracy: 0.9806\n",
            "Epoch 72/100\n",
            "12/12 [==============================] - 1s 105ms/step - loss: 0.0362 - accuracy: 0.9884 - val_loss: 0.0892 - val_accuracy: 0.9802\n",
            "Epoch 73/100\n",
            "12/12 [==============================] - 1s 105ms/step - loss: 0.0397 - accuracy: 0.9872 - val_loss: 0.0820 - val_accuracy: 0.9791\n",
            "Epoch 74/100\n",
            "12/12 [==============================] - 1s 105ms/step - loss: 0.0375 - accuracy: 0.9874 - val_loss: 0.0812 - val_accuracy: 0.9808\n",
            "Epoch 75/100\n",
            "12/12 [==============================] - 1s 105ms/step - loss: 0.0357 - accuracy: 0.9879 - val_loss: 0.0862 - val_accuracy: 0.9792\n",
            "Epoch 76/100\n",
            "12/12 [==============================] - 1s 104ms/step - loss: 0.0359 - accuracy: 0.9880 - val_loss: 0.0828 - val_accuracy: 0.9796\n",
            "Epoch 77/100\n",
            "12/12 [==============================] - 1s 107ms/step - loss: 0.0376 - accuracy: 0.9869 - val_loss: 0.0849 - val_accuracy: 0.9797\n",
            "Epoch 78/100\n",
            "12/12 [==============================] - 1s 105ms/step - loss: 0.0377 - accuracy: 0.9880 - val_loss: 0.0861 - val_accuracy: 0.9803\n",
            "Epoch 79/100\n",
            "12/12 [==============================] - 1s 103ms/step - loss: 0.0347 - accuracy: 0.9888 - val_loss: 0.0849 - val_accuracy: 0.9803\n",
            "Epoch 80/100\n",
            "12/12 [==============================] - 1s 107ms/step - loss: 0.0359 - accuracy: 0.9880 - val_loss: 0.0901 - val_accuracy: 0.9794\n",
            "Epoch 81/100\n",
            "12/12 [==============================] - 1s 103ms/step - loss: 0.0362 - accuracy: 0.9880 - val_loss: 0.0833 - val_accuracy: 0.9803\n",
            "Epoch 82/100\n",
            "12/12 [==============================] - 1s 104ms/step - loss: 0.0386 - accuracy: 0.9873 - val_loss: 0.0792 - val_accuracy: 0.9803\n",
            "Epoch 83/100\n",
            "12/12 [==============================] - 1s 104ms/step - loss: 0.0362 - accuracy: 0.9877 - val_loss: 0.0872 - val_accuracy: 0.9793\n",
            "Epoch 84/100\n",
            "12/12 [==============================] - 1s 106ms/step - loss: 0.0373 - accuracy: 0.9873 - val_loss: 0.0796 - val_accuracy: 0.9804\n",
            "Epoch 85/100\n",
            "12/12 [==============================] - 1s 105ms/step - loss: 0.0363 - accuracy: 0.9884 - val_loss: 0.0819 - val_accuracy: 0.9801\n",
            "Epoch 86/100\n",
            "12/12 [==============================] - 1s 105ms/step - loss: 0.0341 - accuracy: 0.9889 - val_loss: 0.0817 - val_accuracy: 0.9805\n",
            "Epoch 87/100\n",
            "12/12 [==============================] - 1s 106ms/step - loss: 0.0317 - accuracy: 0.9891 - val_loss: 0.0857 - val_accuracy: 0.9807\n",
            "Epoch 88/100\n",
            "12/12 [==============================] - 1s 106ms/step - loss: 0.0321 - accuracy: 0.9891 - val_loss: 0.0833 - val_accuracy: 0.9812\n",
            "Epoch 89/100\n",
            "12/12 [==============================] - 1s 103ms/step - loss: 0.0314 - accuracy: 0.9898 - val_loss: 0.0819 - val_accuracy: 0.9809\n",
            "Epoch 90/100\n",
            "12/12 [==============================] - 1s 104ms/step - loss: 0.0340 - accuracy: 0.9887 - val_loss: 0.0824 - val_accuracy: 0.9817\n",
            "Epoch 91/100\n",
            "12/12 [==============================] - 1s 104ms/step - loss: 0.0334 - accuracy: 0.9886 - val_loss: 0.0885 - val_accuracy: 0.9792\n",
            "Epoch 92/100\n",
            "12/12 [==============================] - 1s 107ms/step - loss: 0.0337 - accuracy: 0.9889 - val_loss: 0.0868 - val_accuracy: 0.9808\n",
            "Epoch 93/100\n",
            "12/12 [==============================] - 1s 105ms/step - loss: 0.0342 - accuracy: 0.9884 - val_loss: 0.0858 - val_accuracy: 0.9798\n",
            "Epoch 94/100\n",
            "12/12 [==============================] - 1s 105ms/step - loss: 0.0304 - accuracy: 0.9899 - val_loss: 0.0869 - val_accuracy: 0.9809\n",
            "Epoch 95/100\n",
            "12/12 [==============================] - 1s 103ms/step - loss: 0.0313 - accuracy: 0.9899 - val_loss: 0.0857 - val_accuracy: 0.9808\n",
            "Epoch 96/100\n",
            "12/12 [==============================] - 1s 105ms/step - loss: 0.0339 - accuracy: 0.9890 - val_loss: 0.0858 - val_accuracy: 0.9801\n",
            "Epoch 97/100\n",
            "12/12 [==============================] - 1s 104ms/step - loss: 0.0318 - accuracy: 0.9896 - val_loss: 0.0851 - val_accuracy: 0.9801\n",
            "Epoch 98/100\n",
            "12/12 [==============================] - 1s 103ms/step - loss: 0.0298 - accuracy: 0.9902 - val_loss: 0.0843 - val_accuracy: 0.9805\n",
            "Epoch 99/100\n",
            "12/12 [==============================] - 1s 105ms/step - loss: 0.0309 - accuracy: 0.9900 - val_loss: 0.0865 - val_accuracy: 0.9795\n",
            "Epoch 100/100\n",
            "12/12 [==============================] - 1s 103ms/step - loss: 0.0333 - accuracy: 0.9891 - val_loss: 0.0859 - val_accuracy: 0.9803\n",
            "\n",
            " Evaluate the new model against the test set:\n",
            "3/3 [==============================] - 0s 22ms/step - loss: 0.0785 - accuracy: 0.9814\n"
          ],
          "name": "stdout"
        },
        {
          "output_type": "execute_result",
          "data": {
            "text/plain": [
              "[0.078484445810318, 0.9814000129699707]"
            ]
          },
          "metadata": {
            "tags": []
          },
          "execution_count": 47
        },
        {
          "output_type": "display_data",
          "data": {
            "image/png": "[encoded data removed]",
            "text/plain": [
              "<Figure size 432x288 with 1 Axes>"
            ]
          },
          "metadata": {
            "tags": [],
            "needs_background": "light"
          }
        }
      ]
    },
    {
      "cell_type": "code",
      "metadata": {
        "id": "ArTKjSfNsqhB",
        "outputId": "c1931c74-6865-4f15-e82e-261b02e0c11e",
        "colab": {
          "base_uri": "https://localhost:8080/",
          "height": 34
        }
      },
      "source": [
        "3/16"
      ],
      "execution_count": 41,
      "outputs": [
        {
          "output_type": "execute_result",
          "data": {
            "text/plain": [
              "0.1875"
            ]
          },
          "metadata": {
            "tags": []
          },
          "execution_count": 41
        }
      ]
    }
  ]
}